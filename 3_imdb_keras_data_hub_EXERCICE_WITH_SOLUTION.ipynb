{
 "cells": [
  {
   "cell_type": "markdown",
   "metadata": {},
   "source": [
    "# Cifar10 with tf.keras, tf.data and image augmentation"
   ]
  },
  {
   "cell_type": "code",
   "execution_count": null,
   "metadata": {
    "ExecuteTime": {
     "end_time": "2019-04-18T18:51:08.838742Z",
     "start_time": "2019-04-18T18:51:07.732632Z"
    }
   },
   "outputs": [],
   "source": [
    "import sys\n",
    "import os\n",
    "import tempfile\n",
    "import shutil\n",
    "import tensorflow as tf\n",
    "import tensorflow_hub as hub\n",
    "import tensorflow_datasets as tfds\n",
    "\n",
    "import numpy as np\n",
    "%matplotlib inline\n",
    "import random\n",
    "import matplotlib.pyplot as plt"
   ]
  },
  {
   "cell_type": "code",
   "execution_count": null,
   "metadata": {
    "ExecuteTime": {
     "end_time": "2019-04-18T18:12:45.263332Z",
     "start_time": "2019-04-18T18:12:45.252052Z"
    }
   },
   "outputs": [],
   "source": [
    "# Python version 3.5 or 3.6\n",
    "assert sys.version_info >= (3, 5)\n",
    "assert sys.version_info < (3, 7)\n",
    "# Tensorflow 2.0\n",
    "assert tf.__version__ >= \"2.0\""
   ]
  },
  {
   "cell_type": "markdown",
   "metadata": {},
   "source": [
    "The problem we are trying to solve here is to classify RGB images (32 pixels by 32 pixels), into their 10 categories (_airplane_, _automobile_, _bird_, _cat_, _deer_, _dog_, _frog_, _horse_, _ship_, _truck_). The dataset we will use is the CIFAR10 dataset, a classic dataset in the machine learning community."
   ]
  },
  {
   "cell_type": "markdown",
   "metadata": {},
   "source": [
    "# Input Data Management"
   ]
  },
  {
   "cell_type": "markdown",
   "metadata": {},
   "source": [
    "## Download the dataset"
   ]
  },
  {
   "cell_type": "markdown",
   "metadata": {},
   "source": [
    "The CIFAR10 dataset comes pre-loaded in Keras, in the form of a set of four Numpy arrays.\n",
    "\n",
    "Documentation : https://www.tensorflow.org/api_docs/python/tf/keras/datasets/cifar10"
   ]
  },
  {
   "cell_type": "code",
   "execution_count": null,
   "metadata": {
    "ExecuteTime": {
     "end_time": "2019-04-18T17:12:22.660648Z",
     "start_time": "2019-04-18T17:12:22.375269Z"
    }
   },
   "outputs": [],
   "source": [
    "train_data, test_data = tfds.load(name=\"imdb_reviews\", split=[\"train\", \"test\"], \n",
    "                                  batch_size=-1, as_supervised=True)\n",
    "\n",
    "train_examples, train_labels = tfds.as_numpy(train_data)\n",
    "test_examples, test_labels = tfds.as_numpy(test_data)"
   ]
  },
  {
   "cell_type": "code",
   "execution_count": null,
   "metadata": {},
   "outputs": [],
   "source": [
    "x_val = train_examples[:10000]\n",
    "partial_x_train = train_examples[10000:]\n",
    "\n",
    "y_val = train_labels[:10000]\n",
    "partial_y_train = train_labels[10000:]"
   ]
  },
  {
   "cell_type": "markdown",
   "metadata": {},
   "source": [
    "## Visualize the data"
   ]
  },
  {
   "cell_type": "code",
   "execution_count": null,
   "metadata": {},
   "outputs": [],
   "source": [
    "print(\"Training entries: {}, test entries: {}\".format(len(train_examples), len(test_examples)))"
   ]
  },
  {
   "cell_type": "code",
   "execution_count": null,
   "metadata": {},
   "outputs": [],
   "source": [
    "train_examples[:2]"
   ]
  },
  {
   "cell_type": "code",
   "execution_count": null,
   "metadata": {
    "ExecuteTime": {
     "end_time": "2019-04-18T17:12:24.434804Z",
     "start_time": "2019-04-18T17:12:24.431258Z"
    }
   },
   "outputs": [],
   "source": [
    "train_labels[:10]"
   ]
  },
  {
   "cell_type": "markdown",
   "metadata": {},
   "source": [
    "## Create a tf.data Dataset"
   ]
  },
  {
   "cell_type": "code",
   "execution_count": null,
   "metadata": {},
   "outputs": [],
   "source": [
    "NUM_EPOCHS = 10\n",
    "BATCH_SIZE = 100"
   ]
  },
  {
   "cell_type": "code",
   "execution_count": null,
   "metadata": {},
   "outputs": [],
   "source": [
    "ds_train = tf.data.Dataset.from_tensor_slices((partial_x_train, partial_y_train))\n",
    "ds_train = ds_train.shuffle(buffer_size=10000)\n",
    "ds_train = ds_train.batch(BATCH_SIZE)\n",
    "ds_train = ds_train.repeat(NUM_EPOCHS)"
   ]
  },
  {
   "cell_type": "code",
   "execution_count": null,
   "metadata": {
    "ExecuteTime": {
     "end_time": "2019-04-18T17:13:02.279988Z",
     "start_time": "2019-04-18T17:13:02.276742Z"
    }
   },
   "outputs": [],
   "source": [
    "ds_test = tf.data.Dataset.from_tensor_slices((x_val, y_val))\n",
    "ds_test = ds_test.batch(BATCH_SIZE)"
   ]
  },
  {
   "cell_type": "markdown",
   "metadata": {},
   "source": [
    "# Model Management"
   ]
  },
  {
   "cell_type": "markdown",
   "metadata": {},
   "source": [
    "## Build the model"
   ]
  },
  {
   "cell_type": "code",
   "execution_count": null,
   "metadata": {
    "ExecuteTime": {
     "end_time": "2019-04-18T17:13:14.365592Z",
     "start_time": "2019-04-18T17:13:14.360540Z"
    }
   },
   "outputs": [],
   "source": [
    "module_url = \"https://tfhub.dev/google/tf2-preview/gnews-swivel-20dim/1\""
   ]
  },
  {
   "cell_type": "markdown",
   "metadata": {
    "solution2": "shown",
    "solution2_first": true
   },
   "source": [
    "Our Neural Network will now be composed of the following layer : \n",
    "- `KerasLayer` : add the `module_url`, the output_shape ([OUTPUT_SHAPE]), the input_shape ([]), dtype=tf.string and set `trainable` to False\n",
    "- `Dense` Layer : 16 neurons, relu activation\n",
    "- `Dense` Layer : 1 neuron, sigmoid activation\n",
    "\n",
    "> <div class=\"mark\">Create the model</div><i class=\"fa fa-lightbulb-o \"></i>\n",
    "\n",
    "Documentation : \n",
    "- https://www.tensorflow.org/hub/api_docs/python/hub/KerasLayer?hl=en\n",
    "- https://www.tensorflow.org/api_docs/python/tf/keras/layers/Dense"
   ]
  },
  {
   "cell_type": "code",
   "execution_count": null,
   "metadata": {
    "ExecuteTime": {
     "end_time": "2019-04-18T19:27:59.413692Z",
     "start_time": "2019-04-18T19:27:59.298382Z"
    },
    "solution2": "shown"
   },
   "outputs": [],
   "source": [
    "OUTPUT_SHAPE = 20\n",
    "\n",
    "model = tf.keras.Sequential()\n",
    "model.add(hub.KerasLayer(module_url, output_shape=[OUTPUT_SHAPE], input_shape=[], dtype=tf.string, trainable=False))\n",
    "model.add(tf.keras.layers.Dense(16, activation='relu'))\n",
    "model.add(tf.keras.layers.Dense(1, activation='sigmoid'))"
   ]
  },
  {
   "cell_type": "code",
   "execution_count": null,
   "metadata": {
    "ExecuteTime": {
     "end_time": "2019-03-24T19:27:28.138274Z",
     "start_time": "2019-03-24T19:27:28.017642Z"
    }
   },
   "outputs": [],
   "source": [
    "OUTPUT_SHAPE = 20\n",
    "\n",
    "model = tf.keras.models.Sequential()\n",
    "# TODO\n"
   ]
  },
  {
   "cell_type": "markdown",
   "metadata": {},
   "source": [
    "To make our network ready for training, we need to pick three more things, as part of \"compilation\" step:\n",
    "\n",
    "* A loss function: the is how the network will be able to measure how good a job it is doing on its training data, and thus how it will be able to steer itself in the right direction.\n",
    "* An optimizer: this is the mechanism through which the network will update itself based on the data it sees and its loss function.\n",
    "* Metrics to monitor during training and testing. Here we will only care about accuracy (the fraction of the images that were correctly classified).\n",
    "\n",
    "You will implement the following compilation step for your Neural Network : \n",
    "- \"adam\" optimizer\n",
    "- \"binary_crossentropy\" loss\n",
    "- metric : \"accuracy\"\n",
    "\n",
    "Documentation : https://www.tensorflow.org/api_docs/python/tf/keras/models/Sequential#compile"
   ]
  },
  {
   "cell_type": "markdown",
   "metadata": {},
   "source": [
    "### Compile the model"
   ]
  },
  {
   "cell_type": "code",
   "execution_count": null,
   "metadata": {
    "ExecuteTime": {
     "end_time": "2019-04-18T19:29:15.440912Z",
     "start_time": "2019-04-18T19:29:15.365063Z"
    }
   },
   "outputs": [],
   "source": [
    "optimizer = tf.optimizers.Adam()\n",
    "\n",
    "model.compile(loss='binary_crossentropy',\n",
    "              optimizer=optimizer,\n",
    "              metrics=['accuracy'])"
   ]
  },
  {
   "cell_type": "markdown",
   "metadata": {},
   "source": [
    "Summarize the model"
   ]
  },
  {
   "cell_type": "code",
   "execution_count": null,
   "metadata": {
    "ExecuteTime": {
     "end_time": "2019-04-18T19:29:16.187142Z",
     "start_time": "2019-04-18T19:29:16.182868Z"
    }
   },
   "outputs": [],
   "source": [
    "model.summary()"
   ]
  },
  {
   "cell_type": "markdown",
   "metadata": {},
   "source": [
    "## Train the model"
   ]
  },
  {
   "cell_type": "markdown",
   "metadata": {
    "ExecuteTime": {
     "end_time": "2019-03-19T10:14:34.658684Z",
     "start_time": "2019-03-19T10:14:34.653107Z"
    }
   },
   "source": [
    "We are now ready to train our network, which in Keras is done via a call to the `fit` method of the network: \n",
    "we \"fit\" the model to its training data."
   ]
  },
  {
   "cell_type": "markdown",
   "metadata": {},
   "source": [
    "You will fit the network with the following configurations :\n",
    "- `x`: ds_train\n",
    "- `epochs` : 5 (passes on the whole dataset)\n",
    "- `steps_per_epoch`: 150 steps\n",
    "- `validation_data`: ds_test\n",
    "- `validation_steps`: 10\n",
    "- `callbacks`: tensorboard\n",
    "\n",
    "You will also add a callback for launching TensorBoard to observe how the training is performing."
   ]
  },
  {
   "cell_type": "code",
   "execution_count": null,
   "metadata": {
    "ExecuteTime": {
     "end_time": "2019-04-18T19:08:38.182162Z",
     "start_time": "2019-04-18T19:08:38.177577Z"
    }
   },
   "outputs": [],
   "source": [
    "LOG_DIR = './tensorboard/tf_keras_data_transfer'\n",
    "\n",
    "tensorboard = tf.keras.callbacks.TensorBoard(log_dir=LOG_DIR, histogram_freq=1, update_freq=\"batch\")"
   ]
  },
  {
   "cell_type": "markdown",
   "metadata": {
    "solution2": "shown",
    "solution2_first": true
   },
   "source": [
    "> <div class=\"mark\">Fit the model with the above information.</div><i class=\"fa fa-lightbulb-o \"></i>"
   ]
  },
  {
   "cell_type": "code",
   "execution_count": null,
   "metadata": {
    "ExecuteTime": {
     "end_time": "2019-04-18T19:30:09.265689Z",
     "start_time": "2019-04-18T19:29:55.833969Z"
    },
    "solution2": "shown"
   },
   "outputs": [],
   "source": [
    "shutil.rmtree(LOG_DIR, ignore_errors=True)\n",
    "\n",
    "model.fit(x=ds_train,\n",
    "         epochs=10,\n",
    "         steps_per_epoch=150,\n",
    "         validation_data=ds_test,\n",
    "         validation_steps=10,\n",
    "         callbacks=[tensorboard])"
   ]
  },
  {
   "cell_type": "code",
   "execution_count": null,
   "metadata": {},
   "outputs": [],
   "source": [
    "shutil.rmtree(LOG_DIR, ignore_errors=True)\n",
    "\n",
    "model. # TODO"
   ]
  },
  {
   "cell_type": "markdown",
   "metadata": {},
   "source": [
    "Two quantities are being displayed during training: the \"loss\" of the network over the training data, and the accuracy of the network over the training data."
   ]
  },
  {
   "cell_type": "markdown",
   "metadata": {},
   "source": [
    "# Model Performance Evaluation"
   ]
  },
  {
   "cell_type": "markdown",
   "metadata": {
    "solution2": "hidden",
    "solution2_first": true
   },
   "source": [
    "Now let's check that our model performs well on the test set too.\n",
    "\n",
    "You can do this by calling the `evaluate` method of your network on the test set (use 300 for the `steps` argument).\n",
    "\n",
    "Documentation : https://www.tensorflow.org/api_docs/python/tf/keras/models/Sequential#evaluate\n",
    "\n",
    "> <div class=\"mark\">Evaluate the model performance on test set</div><i class=\"fa fa-lightbulb-o \"></i>"
   ]
  },
  {
   "cell_type": "code",
   "execution_count": null,
   "metadata": {
    "solution2": "hidden"
   },
   "outputs": [],
   "source": [
    "model.evaluate(ds_test)"
   ]
  },
  {
   "cell_type": "code",
   "execution_count": null,
   "metadata": {},
   "outputs": [],
   "source": [
    "model. # TODO"
   ]
  },
  {
   "cell_type": "code",
   "execution_count": null,
   "metadata": {
    "ExecuteTime": {
     "end_time": "2019-04-01T07:23:45.634450Z",
     "start_time": "2019-04-01T07:23:45.244985Z"
    },
    "solution2": "hidden"
   },
   "outputs": [],
   "source": [
    "model.evaluate(ds_test)"
   ]
  }
 ],
 "metadata": {
  "kernelspec": {
   "display_name": "Python 3",
   "language": "python",
   "name": "python3"
  },
  "language_info": {
   "codemirror_mode": {
    "name": "ipython",
    "version": 3
   },
   "file_extension": ".py",
   "mimetype": "text/x-python",
   "name": "python",
   "nbconvert_exporter": "python",
   "pygments_lexer": "ipython3",
   "version": "3.6.7"
  },
  "toc": {
   "base_numbering": 1,
   "nav_menu": {
    "height": "256px",
    "width": "264px"
   },
   "number_sections": true,
   "sideBar": true,
   "skip_h1_title": false,
   "title_cell": "Table of Contents",
   "title_sidebar": "Contents",
   "toc_cell": false,
   "toc_position": {
    "height": "calc(100% - 180px)",
    "left": "10px",
    "top": "150px",
    "width": "384px"
   },
   "toc_section_display": true,
   "toc_window_display": true
  }
 },
 "nbformat": 4,
 "nbformat_minor": 2
}
