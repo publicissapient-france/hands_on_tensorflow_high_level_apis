{
 "cells": [
  {
   "cell_type": "markdown",
   "metadata": {},
   "source": [
    "# Tensors and operations with TF 2.0"
   ]
  },
  {
   "cell_type": "code",
   "execution_count": null,
   "metadata": {
    "ExecuteTime": {
     "end_time": "2019-04-18T10:34:43.582901Z",
     "start_time": "2019-04-18T10:34:42.715511Z"
    }
   },
   "outputs": [],
   "source": [
    "import sys\n",
    "import shutil\n",
    "import tensorflow as tf\n",
    "\n",
    "import numpy as np\n",
    "%matplotlib inline\n",
    "import random\n",
    "import matplotlib.pyplot as plt"
   ]
  },
  {
   "cell_type": "code",
   "execution_count": null,
   "metadata": {
    "ExecuteTime": {
     "end_time": "2019-04-18T10:34:43.587180Z",
     "start_time": "2019-04-18T10:34:43.584176Z"
    }
   },
   "outputs": [],
   "source": [
    "# Python version 3.5 or 3.6\n",
    "assert sys.version_info >= (3, 5)\n",
    "assert sys.version_info < (3, 7)\n",
    "# Tensorflow 2.0\n",
    "assert tf.__version__ >= \"2.0\""
   ]
  },
  {
   "cell_type": "markdown",
   "metadata": {},
   "source": [
    "In this exercise we'll take a look at basic mathemathical operations on tensors."
   ]
  },
  {
   "cell_type": "markdown",
   "metadata": {},
   "source": [
    "## Tensors"
   ]
  },
  {
   "cell_type": "markdown",
   "metadata": {},
   "source": [
    "A tensor is a generalisation a vector or matrix with potentially higher dimentions. TensorFlow manipulates tensors.\n",
    "\n",
    "Documenentation: https://www.tensorflow.org/guide/tensors\n",
    "\n",
    "Tensors in TensorFlow are objects of class tf.Tensor() with a type and and shape."
   ]
  },
  {
   "cell_type": "markdown",
   "metadata": {},
   "source": [
    "#### Constant"
   ]
  },
  {
   "cell_type": "code",
   "execution_count": null,
   "metadata": {
    "ExecuteTime": {
     "end_time": "2019-04-18T10:34:45.209583Z",
     "start_time": "2019-04-18T10:34:45.145699Z"
    }
   },
   "outputs": [],
   "source": [
    "# 1-D tensor\n",
    "tns_1 = tf.constant([1, 2, 3])\n",
    "tns_1"
   ]
  },
  {
   "cell_type": "code",
   "execution_count": null,
   "metadata": {
    "ExecuteTime": {
     "end_time": "2019-04-18T10:34:45.551039Z",
     "start_time": "2019-04-18T10:34:45.539843Z"
    }
   },
   "outputs": [],
   "source": [
    "# 2-D tensor\n",
    "tns_2 = tf.constant([[1, 2, 3], [4, 5, 6]])\n",
    "tns_2"
   ]
  },
  {
   "cell_type": "code",
   "execution_count": null,
   "metadata": {
    "ExecuteTime": {
     "end_time": "2019-04-18T10:34:46.078444Z",
     "start_time": "2019-04-18T10:34:46.056623Z"
    }
   },
   "outputs": [],
   "source": [
    "# 3-D tensor\n",
    "tns_3 = tf.constant([[[1, 1], [2, 2], [3, 3], [4, 4]], [[5, 5], [6, 6], [7, 7], [8, 8]]])\n",
    "tns_3"
   ]
  },
  {
   "cell_type": "markdown",
   "metadata": {},
   "source": [
    "#### Variable\n",
    "\n",
    "A tf.Variable represents a tensor whose value can be changed by running ops on it."
   ]
  },
  {
   "cell_type": "code",
   "execution_count": null,
   "metadata": {
    "ExecuteTime": {
     "end_time": "2019-04-18T10:34:46.729635Z",
     "start_time": "2019-04-18T10:34:46.718896Z"
    }
   },
   "outputs": [],
   "source": [
    "tns = tf.Variable([[1, 2, 3], [4, 5, 6]])\n",
    "tns"
   ]
  },
  {
   "cell_type": "code",
   "execution_count": null,
   "metadata": {
    "ExecuteTime": {
     "end_time": "2019-04-18T10:34:47.103454Z",
     "start_time": "2019-04-18T10:34:47.088538Z"
    }
   },
   "outputs": [],
   "source": [
    "tns.assign(tns + 1)"
   ]
  },
  {
   "cell_type": "code",
   "execution_count": null,
   "metadata": {
    "ExecuteTime": {
     "end_time": "2019-04-18T10:34:47.647140Z",
     "start_time": "2019-04-18T10:34:47.512553Z"
    }
   },
   "outputs": [],
   "source": [
    "tns = tf.constant([[1, 2, 3], [4, 5, 6]])\n",
    "tns.assign(tns + 1)"
   ]
  },
  {
   "cell_type": "markdown",
   "metadata": {},
   "source": [
    "### Attributes\n",
    "\n",
    "Tensor objects have `dtype` and `shape` attributes."
   ]
  },
  {
   "cell_type": "code",
   "execution_count": null,
   "metadata": {
    "ExecuteTime": {
     "end_time": "2019-04-18T10:35:30.554573Z",
     "start_time": "2019-04-18T10:35:30.552449Z"
    }
   },
   "outputs": [],
   "source": [
    "tns = tf.constant([[1, 2, 3], [4, 5, 6]])"
   ]
  },
  {
   "cell_type": "code",
   "execution_count": null,
   "metadata": {
    "ExecuteTime": {
     "end_time": "2019-04-18T10:35:31.152832Z",
     "start_time": "2019-04-18T10:35:31.147190Z"
    }
   },
   "outputs": [],
   "source": [
    "tns"
   ]
  },
  {
   "cell_type": "code",
   "execution_count": null,
   "metadata": {
    "ExecuteTime": {
     "end_time": "2019-04-18T10:35:31.730778Z",
     "start_time": "2019-04-18T10:35:31.725806Z"
    }
   },
   "outputs": [],
   "source": [
    "tns.dtype"
   ]
  },
  {
   "cell_type": "code",
   "execution_count": null,
   "metadata": {
    "ExecuteTime": {
     "end_time": "2019-04-18T10:35:32.275827Z",
     "start_time": "2019-04-18T10:35:32.267012Z"
    }
   },
   "outputs": [],
   "source": [
    "tns.shape"
   ]
  },
  {
   "cell_type": "markdown",
   "metadata": {},
   "source": [
    "Type and shape can be defined when instantiating the tensor."
   ]
  },
  {
   "cell_type": "code",
   "execution_count": null,
   "metadata": {
    "ExecuteTime": {
     "end_time": "2019-04-18T10:35:33.104717Z",
     "start_time": "2019-04-18T10:35:33.101197Z"
    }
   },
   "outputs": [],
   "source": [
    "tns = tf.constant([[1, 2, 3], [4, 5, 6]], dtype=tf.float32)\n",
    "tns"
   ]
  },
  {
   "cell_type": "code",
   "execution_count": null,
   "metadata": {
    "ExecuteTime": {
     "end_time": "2019-04-18T10:35:33.587530Z",
     "start_time": "2019-04-18T10:35:33.575390Z"
    }
   },
   "outputs": [],
   "source": [
    "tns = tf.constant([[1, 2, 3], [4, 5, 6]], shape=(2, 3, 1))\n",
    "tns"
   ]
  },
  {
   "cell_type": "markdown",
   "metadata": {},
   "source": [
    "### Accessing tensors\n",
    "\n",
    "You can access a single element or slices of tensors using indexes within backets.\n",
    "\n",
    "Index starts at 0.\n",
    "\n",
    "The `:` notation is used to get all the elements in one dimention. It allows you to access subvectors, submatrices, and even other subtensors."
   ]
  },
  {
   "cell_type": "code",
   "execution_count": null,
   "metadata": {
    "ExecuteTime": {
     "end_time": "2019-04-18T10:35:34.634937Z",
     "start_time": "2019-04-18T10:35:34.632663Z"
    }
   },
   "outputs": [],
   "source": [
    "tns = tf.constant([[1, 2, 3], [4, 5, 6]])"
   ]
  },
  {
   "cell_type": "code",
   "execution_count": null,
   "metadata": {
    "ExecuteTime": {
     "end_time": "2019-04-18T10:35:35.068663Z",
     "start_time": "2019-04-18T10:35:35.060610Z"
    }
   },
   "outputs": [],
   "source": [
    "# Extract element (1, 2)\n",
    "tns[1, 2]"
   ]
  },
  {
   "cell_type": "code",
   "execution_count": null,
   "metadata": {
    "ExecuteTime": {
     "end_time": "2019-04-18T10:35:35.492023Z",
     "start_time": "2019-04-18T10:35:35.483404Z"
    }
   },
   "outputs": [],
   "source": [
    "# Extract first line\n",
    "tns[0, :]"
   ]
  },
  {
   "cell_type": "markdown",
   "metadata": {},
   "source": [
    "### TF & Numpy"
   ]
  },
  {
   "cell_type": "code",
   "execution_count": null,
   "metadata": {
    "ExecuteTime": {
     "end_time": "2019-04-18T10:35:36.402836Z",
     "start_time": "2019-04-18T10:35:36.399680Z"
    }
   },
   "outputs": [],
   "source": [
    "tns = tf.constant([[1, 2, 3], [4, 5, 6]])\n",
    "tns.numpy()"
   ]
  },
  {
   "cell_type": "code",
   "execution_count": null,
   "metadata": {
    "ExecuteTime": {
     "end_time": "2019-04-18T10:35:36.908734Z",
     "start_time": "2019-04-18T10:35:36.895809Z"
    }
   },
   "outputs": [],
   "source": [
    "np_array = np.array([[1, 2, 3], [4, 5, 6]])\n",
    "tf.constant(np_array)"
   ]
  },
  {
   "cell_type": "markdown",
   "metadata": {},
   "source": [
    "## Operations"
   ]
  },
  {
   "cell_type": "code",
   "execution_count": null,
   "metadata": {
    "ExecuteTime": {
     "end_time": "2019-04-18T10:35:37.818599Z",
     "start_time": "2019-04-18T10:35:37.816433Z"
    }
   },
   "outputs": [],
   "source": [
    "tns = tf.constant([[1, 2, 3], [4, 5, 6]])"
   ]
  },
  {
   "cell_type": "code",
   "execution_count": null,
   "metadata": {
    "ExecuteTime": {
     "end_time": "2019-04-18T10:35:38.304210Z",
     "start_time": "2019-04-18T10:35:38.299486Z"
    }
   },
   "outputs": [],
   "source": [
    "# Add a constant\n",
    "tns + 1"
   ]
  },
  {
   "cell_type": "code",
   "execution_count": null,
   "metadata": {
    "ExecuteTime": {
     "end_time": "2019-04-18T10:35:38.869878Z",
     "start_time": "2019-04-18T10:35:38.832042Z"
    }
   },
   "outputs": [],
   "source": [
    "# Type must be the same\n",
    "tns + 1.0"
   ]
  },
  {
   "cell_type": "code",
   "execution_count": null,
   "metadata": {
    "ExecuteTime": {
     "end_time": "2019-04-18T10:35:39.295026Z",
     "start_time": "2019-04-18T10:35:39.290492Z"
    }
   },
   "outputs": [],
   "source": [
    "tns_1 = tf.constant([[1, 2, 3], [4, 5, 6]])\n",
    "tns_2 = tf.constant([[4, 5, 6], [1, 2, 3]])"
   ]
  },
  {
   "cell_type": "code",
   "execution_count": null,
   "metadata": {
    "ExecuteTime": {
     "end_time": "2019-04-18T10:36:04.779566Z",
     "start_time": "2019-04-18T10:36:04.769328Z"
    }
   },
   "outputs": [],
   "source": [
    "# Addition of tensors\n",
    "tns_3 = tns_1 + tns_2\n",
    "tns_3"
   ]
  },
  {
   "cell_type": "code",
   "execution_count": null,
   "metadata": {
    "ExecuteTime": {
     "end_time": "2019-04-18T10:36:05.313579Z",
     "start_time": "2019-04-18T10:36:05.309946Z"
    }
   },
   "outputs": [],
   "source": [
    "# Square of a tensor https://www.tensorflow.org/api_docs/python/tf/math/square\n",
    "tns_4 = tf.square(tns_1)\n",
    "tns_4"
   ]
  },
  {
   "cell_type": "code",
   "execution_count": null,
   "metadata": {
    "ExecuteTime": {
     "end_time": "2019-04-18T10:36:05.823510Z",
     "start_time": "2019-04-18T10:36:05.809730Z"
    }
   },
   "outputs": [],
   "source": [
    "# Transpose tns_1 https://www.tensorflow.org/api_docs/python/tf/transpose\n",
    "tns_5 = tf.transpose(tns_1)\n",
    "tns_5"
   ]
  },
  {
   "cell_type": "code",
   "execution_count": null,
   "metadata": {
    "ExecuteTime": {
     "end_time": "2019-04-18T10:36:06.270299Z",
     "start_time": "2019-04-18T10:36:06.256271Z"
    }
   },
   "outputs": [],
   "source": [
    "# Matrix multiplication https://www.tensorflow.org/api_docs/python/tf/linalg/matmul\n",
    "# Attention to matrix dimensions\n",
    "tns_6 = tf.matmul(tns_1, tf.transpose(tns_2))\n",
    "tns_6"
   ]
  },
  {
   "cell_type": "markdown",
   "metadata": {},
   "source": [
    "### Operations with different types"
   ]
  },
  {
   "cell_type": "code",
   "execution_count": null,
   "metadata": {
    "ExecuteTime": {
     "end_time": "2019-04-18T10:36:07.280294Z",
     "start_time": "2019-04-18T10:36:07.277647Z"
    }
   },
   "outputs": [],
   "source": [
    "tns_1 = tf.constant([[1, 2, 3], [4, 5, 6]], dtype=tf.int32)\n",
    "tns_2 = tf.constant([[4, 5, 6], [1, 2, 3]], dtype=tf.float32)"
   ]
  },
  {
   "cell_type": "code",
   "execution_count": null,
   "metadata": {
    "ExecuteTime": {
     "end_time": "2019-04-18T10:36:07.779944Z",
     "start_time": "2019-04-18T10:36:07.766508Z"
    }
   },
   "outputs": [],
   "source": [
    "tns_1 + tns_2"
   ]
  },
  {
   "cell_type": "code",
   "execution_count": null,
   "metadata": {
    "ExecuteTime": {
     "end_time": "2019-04-18T10:36:35.108993Z",
     "start_time": "2019-04-18T10:36:35.072106Z"
    }
   },
   "outputs": [],
   "source": [
    "tns = tf.Variable([[1, 2, 3], [4, 5, 6]])\n",
    "tns.assign(tns + 1.0)"
   ]
  },
  {
   "cell_type": "code",
   "execution_count": null,
   "metadata": {
    "ExecuteTime": {
     "end_time": "2019-04-14T20:51:21.747469Z",
     "start_time": "2019-04-14T20:51:21.738288Z"
    },
    "scrolled": true
   },
   "outputs": [],
   "source": [
    "tns_4 = tf.transpose(tns_1)\n",
    "tns_4"
   ]
  },
  {
   "cell_type": "markdown",
   "metadata": {},
   "source": [
    "## Appendix"
   ]
  },
  {
   "cell_type": "markdown",
   "metadata": {},
   "source": [
    "### Sparse tensors\n",
    "\n",
    "TensorFlow represents a sparse tensor as three separate dense tensors: `indices`, `values`, and `dense_shape`. \n",
    "\n",
    "* `indices`: A 2-D int64 tensor of dense_shape [N, ndims], which specifies the indices of the elements in the sparse tensor that contain nonzero values (elements are zero-indexed)\n",
    "\n",
    "* `values`: A 1-D tensor of any type and dense_shape [N], which supplies the values for each element in `indices`. \n",
    "\n",
    "* `dense_shape`: A 1-D int64 tensor of dense_shape [ndims], which specifies the dense_shape of the sparse tensor. Takes a list indicating the number of elements in each dimension.\n",
    "\n",
    "`N` and `ndims` are the number of values and number of dimensions in the SparseTensor, respectively.\n",
    "\n",
    "\n",
    "Documentation: https://www.tensorflow.org/api_docs/python/tf/sparse/SparseTensor\n",
    "https://www.tensorflow.org/api_docs/python/tf/sparse/to_dense"
   ]
  },
  {
   "cell_type": "code",
   "execution_count": null,
   "metadata": {
    "ExecuteTime": {
     "end_time": "2019-04-18T10:36:44.378553Z",
     "start_time": "2019-04-18T10:36:44.372583Z"
    }
   },
   "outputs": [],
   "source": [
    "spr = tf.SparseTensor(indices=[[0, 0], [1, 2]], values=[1, 2], dense_shape=[3, 4])\n",
    "spr"
   ]
  },
  {
   "cell_type": "code",
   "execution_count": null,
   "metadata": {
    "ExecuteTime": {
     "end_time": "2019-04-18T10:36:44.913147Z",
     "start_time": "2019-04-18T10:36:44.905097Z"
    }
   },
   "outputs": [],
   "source": [
    "print(spr)"
   ]
  },
  {
   "cell_type": "code",
   "execution_count": null,
   "metadata": {
    "ExecuteTime": {
     "end_time": "2019-04-18T10:36:45.399046Z",
     "start_time": "2019-04-18T10:36:45.386965Z"
    },
    "scrolled": true
   },
   "outputs": [],
   "source": [
    "# Get the dense version of a sparse tensor \n",
    "tf.sparse.to_dense(spr)"
   ]
  },
  {
   "cell_type": "markdown",
   "metadata": {},
   "source": [
    "### Ragged tensors **new in TF 2.0**\n",
    "\n",
    "Ragged tensors are tensors that can contain elements of different size\n",
    "\n",
    "Documentation https://www.tensorflow.org/guide/ragged_tensors"
   ]
  },
  {
   "cell_type": "code",
   "execution_count": null,
   "metadata": {
    "ExecuteTime": {
     "end_time": "2019-04-18T10:36:46.383070Z",
     "start_time": "2019-04-18T10:36:46.379255Z"
    },
    "scrolled": true
   },
   "outputs": [],
   "source": [
    "rgd = tf.ragged.constant([[3, 1, 4, 1], [], [5, 9, 2], [6], []])\n",
    "rgd"
   ]
  },
  {
   "cell_type": "code",
   "execution_count": null,
   "metadata": {
    "ExecuteTime": {
     "end_time": "2019-04-18T10:36:46.776857Z",
     "start_time": "2019-04-18T10:36:46.768728Z"
    }
   },
   "outputs": [],
   "source": [
    "tf.add(rgd, 3)"
   ]
  },
  {
   "cell_type": "code",
   "execution_count": null,
   "metadata": {
    "ExecuteTime": {
     "end_time": "2019-04-18T10:36:47.146362Z",
     "start_time": "2019-04-18T10:36:47.140461Z"
    }
   },
   "outputs": [],
   "source": [
    "print(tf.add(rgd, 3))"
   ]
  },
  {
   "cell_type": "code",
   "execution_count": null,
   "metadata": {
    "ExecuteTime": {
     "end_time": "2019-04-18T10:36:47.530460Z",
     "start_time": "2019-04-18T10:36:47.524415Z"
    }
   },
   "outputs": [],
   "source": [
    "rgd.dtype"
   ]
  },
  {
   "cell_type": "code",
   "execution_count": null,
   "metadata": {
    "ExecuteTime": {
     "end_time": "2019-04-18T10:36:48.314826Z",
     "start_time": "2019-04-18T10:36:48.311656Z"
    }
   },
   "outputs": [],
   "source": [
    "rgd.shape"
   ]
  },
  {
   "cell_type": "code",
   "execution_count": null,
   "metadata": {},
   "outputs": [],
   "source": []
  }
 ],
 "metadata": {
  "kernelspec": {
   "display_name": "Python 3",
   "language": "python",
   "name": "python3"
  },
  "language_info": {
   "codemirror_mode": {
    "name": "ipython",
    "version": 3
   },
   "file_extension": ".py",
   "mimetype": "text/x-python",
   "name": "python",
   "nbconvert_exporter": "python",
   "pygments_lexer": "ipython3",
   "version": "3.6.7"
  },
  "toc": {
   "base_numbering": 1,
   "nav_menu": {},
   "number_sections": true,
   "sideBar": true,
   "skip_h1_title": false,
   "title_cell": "Table of Contents",
   "title_sidebar": "Contents",
   "toc_cell": false,
   "toc_position": {
    "height": "calc(100% - 180px)",
    "left": "10px",
    "top": "150px",
    "width": "356.594px"
   },
   "toc_section_display": true,
   "toc_window_display": true
  }
 },
 "nbformat": 4,
 "nbformat_minor": 1
}
