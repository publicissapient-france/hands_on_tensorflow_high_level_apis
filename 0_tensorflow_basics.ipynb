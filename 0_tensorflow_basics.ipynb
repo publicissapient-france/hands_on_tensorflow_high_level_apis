{
 "cells": [
  {
   "cell_type": "markdown",
   "metadata": {},
   "source": [
    "# Tensors and operations with TF 2.0"
   ]
  },
  {
   "cell_type": "code",
   "execution_count": null,
   "metadata": {
    "ExecuteTime": {
     "end_time": "2019-04-18T11:13:46.143169Z",
     "start_time": "2019-04-18T11:13:45.331661Z"
    }
   },
   "outputs": [],
   "source": [
    "import sys\n",
    "import shutil\n",
    "import tensorflow as tf\n",
    "\n",
    "import numpy as np\n",
    "%matplotlib inline\n",
    "import random\n",
    "import matplotlib.pyplot as plt"
   ]
  },
  {
   "cell_type": "code",
   "execution_count": null,
   "metadata": {
    "ExecuteTime": {
     "end_time": "2019-04-18T11:13:46.146584Z",
     "start_time": "2019-04-18T11:13:46.144428Z"
    }
   },
   "outputs": [],
   "source": [
    "# Python version 3.5 or 3.6\n",
    "assert sys.version_info >= (3, 5)\n",
    "assert sys.version_info < (3, 7)\n",
    "# Tensorflow 2.0\n",
    "assert tf.__version__ >= \"2.0\""
   ]
  },
  {
   "cell_type": "markdown",
   "metadata": {},
   "source": [
    "In this exercise we'll take a look at basic mathemathical operations on tensors."
   ]
  },
  {
   "cell_type": "markdown",
   "metadata": {},
   "source": [
    "## Tensors"
   ]
  },
  {
   "cell_type": "markdown",
   "metadata": {},
   "source": [
    "A tensor is a generalisation a vector or matrix with potentially higher dimentions. TensorFlow manipulates tensors.\n",
    "\n",
    "Documenentation: https://www.tensorflow.org/guide/tensors\n",
    "\n",
    "Tensors in TensorFlow are objects of class tf.Tensor() with a type and and shape."
   ]
  },
  {
   "cell_type": "markdown",
   "metadata": {},
   "source": [
    "#### Constant"
   ]
  },
  {
   "cell_type": "code",
   "execution_count": null,
   "metadata": {
    "ExecuteTime": {
     "end_time": "2019-04-18T11:15:12.455144Z",
     "start_time": "2019-04-18T11:15:12.451905Z"
    }
   },
   "outputs": [],
   "source": [
    "# 1-D tensor\n",
    "tns_1 = tf.constant([1, 2, 3])\n",
    "tns_1"
   ]
  },
  {
   "cell_type": "code",
   "execution_count": null,
   "metadata": {
    "ExecuteTime": {
     "end_time": "2019-04-18T11:15:13.069241Z",
     "start_time": "2019-04-18T11:15:13.056886Z"
    }
   },
   "outputs": [],
   "source": [
    "# 2-D tensor\n",
    "tns_2 = tf.constant([[1, 2, 3], [4, 5, 6]])\n",
    "tns_2"
   ]
  },
  {
   "cell_type": "code",
   "execution_count": null,
   "metadata": {
    "ExecuteTime": {
     "end_time": "2019-04-18T11:15:13.653916Z",
     "start_time": "2019-04-18T11:15:13.632399Z"
    }
   },
   "outputs": [],
   "source": [
    "# 3-D tensor\n",
    "tns_3 = tf.constant([[[1, 1], [2, 2], [3, 3], [4, 4]], [[5, 5], [6, 6], [7, 7], [8, 8]]])\n",
    "tns_3"
   ]
  },
  {
   "cell_type": "markdown",
   "metadata": {},
   "source": [
    "#### Variable\n",
    "\n",
    "A tf.Variable represents a tensor whose value can be changed by running ops on it."
   ]
  },
  {
   "cell_type": "code",
   "execution_count": null,
   "metadata": {
    "ExecuteTime": {
     "end_time": "2019-04-18T11:15:14.602590Z",
     "start_time": "2019-04-18T11:15:14.596365Z"
    }
   },
   "outputs": [],
   "source": [
    "tns = tf.Variable([[1, 2, 3], [4, 5, 6]])\n",
    "tns"
   ]
  },
  {
   "cell_type": "code",
   "execution_count": null,
   "metadata": {
    "ExecuteTime": {
     "end_time": "2019-04-18T11:15:15.024254Z",
     "start_time": "2019-04-18T11:15:15.013700Z"
    }
   },
   "outputs": [],
   "source": [
    "tns.assign(tns + 1)"
   ]
  },
  {
   "cell_type": "code",
   "execution_count": null,
   "metadata": {
    "ExecuteTime": {
     "end_time": "2019-04-18T11:15:15.776112Z",
     "start_time": "2019-04-18T11:15:15.768489Z"
    }
   },
   "outputs": [],
   "source": [
    "tns = tf.constant([[1, 2, 3], [4, 5, 6]])\n",
    "tns.assign(tns + 1)"
   ]
  },
  {
   "cell_type": "markdown",
   "metadata": {},
   "source": [
    "### Attributes\n",
    "\n",
    "Tensor objects have `dtype` and `shape` attributes."
   ]
  },
  {
   "cell_type": "code",
   "execution_count": null,
   "metadata": {
    "ExecuteTime": {
     "end_time": "2019-04-18T11:15:28.945652Z",
     "start_time": "2019-04-18T11:15:28.943051Z"
    }
   },
   "outputs": [],
   "source": [
    "tns = tf.constant([[1, 2, 3], [4, 5, 6]])"
   ]
  },
  {
   "cell_type": "code",
   "execution_count": null,
   "metadata": {
    "ExecuteTime": {
     "end_time": "2019-04-18T11:15:31.179668Z",
     "start_time": "2019-04-18T11:15:31.176587Z"
    }
   },
   "outputs": [],
   "source": [
    "tns"
   ]
  },
  {
   "cell_type": "code",
   "execution_count": null,
   "metadata": {
    "ExecuteTime": {
     "end_time": "2019-04-18T11:15:31.783708Z",
     "start_time": "2019-04-18T11:15:31.775040Z"
    }
   },
   "outputs": [],
   "source": [
    "tns.dtype"
   ]
  },
  {
   "cell_type": "code",
   "execution_count": null,
   "metadata": {
    "ExecuteTime": {
     "end_time": "2019-04-18T11:15:32.156488Z",
     "start_time": "2019-04-18T11:15:32.151305Z"
    }
   },
   "outputs": [],
   "source": [
    "tns.shape"
   ]
  },
  {
   "cell_type": "markdown",
   "metadata": {},
   "source": [
    "Type and shape can be defined when instantiating the tensor."
   ]
  },
  {
   "cell_type": "code",
   "execution_count": null,
   "metadata": {
    "ExecuteTime": {
     "end_time": "2019-04-18T11:15:32.884432Z",
     "start_time": "2019-04-18T11:15:32.878229Z"
    }
   },
   "outputs": [],
   "source": [
    "tns = tf.constant([[1, 2, 3], [4, 5, 6]], dtype=tf.float32)\n",
    "tns"
   ]
  },
  {
   "cell_type": "code",
   "execution_count": null,
   "metadata": {
    "ExecuteTime": {
     "end_time": "2019-04-18T11:15:33.118380Z",
     "start_time": "2019-04-18T11:15:33.108516Z"
    }
   },
   "outputs": [],
   "source": [
    "tns = tf.constant([[1, 2, 3], [4, 5, 6]], shape=(2, 3, 1))\n",
    "tns"
   ]
  },
  {
   "cell_type": "markdown",
   "metadata": {},
   "source": [
    "### Accessing tensors\n",
    "\n",
    "You can access a single element or slices of tensors using indexes within backets.\n",
    "\n",
    "Index starts at 0.\n",
    "\n",
    "The `:` notation is used to get all the elements in one dimention. It allows you to access subvectors, submatrices, and even other subtensors."
   ]
  },
  {
   "cell_type": "code",
   "execution_count": null,
   "metadata": {
    "ExecuteTime": {
     "end_time": "2019-04-18T11:15:33.662955Z",
     "start_time": "2019-04-18T11:15:33.655193Z"
    }
   },
   "outputs": [],
   "source": [
    "tns = tf.constant([[1, 2, 3], [4, 5, 6]])"
   ]
  },
  {
   "cell_type": "code",
   "execution_count": null,
   "metadata": {
    "ExecuteTime": {
     "end_time": "2019-04-18T11:15:33.912562Z",
     "start_time": "2019-04-18T11:15:33.901870Z"
    }
   },
   "outputs": [],
   "source": [
    "# Extract element (1, 2)\n",
    "tns[1, 2]"
   ]
  },
  {
   "cell_type": "code",
   "execution_count": null,
   "metadata": {
    "ExecuteTime": {
     "end_time": "2019-04-18T11:15:34.098907Z",
     "start_time": "2019-04-18T11:15:34.091940Z"
    }
   },
   "outputs": [],
   "source": [
    "# Extract first line\n",
    "tns[0, :]"
   ]
  },
  {
   "cell_type": "markdown",
   "metadata": {},
   "source": [
    "### TF & Numpy"
   ]
  },
  {
   "cell_type": "code",
   "execution_count": null,
   "metadata": {
    "ExecuteTime": {
     "end_time": "2019-04-18T11:15:34.706013Z",
     "start_time": "2019-04-18T11:15:34.700062Z"
    }
   },
   "outputs": [],
   "source": [
    "tns = tf.constant([[1, 2, 3], [4, 5, 6]])\n",
    "tns.numpy()"
   ]
  },
  {
   "cell_type": "code",
   "execution_count": null,
   "metadata": {
    "ExecuteTime": {
     "end_time": "2019-04-18T11:15:35.095866Z",
     "start_time": "2019-04-18T11:15:35.082473Z"
    }
   },
   "outputs": [],
   "source": [
    "np_array = np.array([[1, 2, 3], [4, 5, 6]])\n",
    "tf.constant(np_array)"
   ]
  },
  {
   "cell_type": "markdown",
   "metadata": {},
   "source": [
    "## Operations"
   ]
  },
  {
   "cell_type": "code",
   "execution_count": null,
   "metadata": {
    "ExecuteTime": {
     "end_time": "2019-04-18T11:15:35.468677Z",
     "start_time": "2019-04-18T11:15:35.461393Z"
    }
   },
   "outputs": [],
   "source": [
    "tns = tf.constant([[1, 2, 3], [4, 5, 6]])"
   ]
  },
  {
   "cell_type": "code",
   "execution_count": null,
   "metadata": {
    "ExecuteTime": {
     "end_time": "2019-04-18T11:15:35.630407Z",
     "start_time": "2019-04-18T11:15:35.620466Z"
    }
   },
   "outputs": [],
   "source": [
    "# Add a constant\n",
    "tns + 1"
   ]
  },
  {
   "cell_type": "code",
   "execution_count": null,
   "metadata": {
    "ExecuteTime": {
     "end_time": "2019-04-18T11:15:35.806127Z",
     "start_time": "2019-04-18T11:15:35.776380Z"
    }
   },
   "outputs": [],
   "source": [
    "# Type must be the same\n",
    "tns + 1.0"
   ]
  },
  {
   "cell_type": "code",
   "execution_count": null,
   "metadata": {
    "ExecuteTime": {
     "end_time": "2019-04-18T11:15:35.918184Z",
     "start_time": "2019-04-18T11:15:35.913852Z"
    }
   },
   "outputs": [],
   "source": [
    "tns_1 = tf.constant([[1, 2, 3], [4, 5, 6]])\n",
    "tns_2 = tf.constant([[4, 5, 6], [1, 2, 3]])"
   ]
  },
  {
   "cell_type": "code",
   "execution_count": null,
   "metadata": {
    "ExecuteTime": {
     "end_time": "2019-04-18T11:15:36.089477Z",
     "start_time": "2019-04-18T11:15:36.077500Z"
    }
   },
   "outputs": [],
   "source": [
    "# Addition of tensors\n",
    "tns_3 = tns_1 + tns_2\n",
    "tns_3"
   ]
  },
  {
   "cell_type": "code",
   "execution_count": null,
   "metadata": {
    "ExecuteTime": {
     "end_time": "2019-04-18T11:15:36.258702Z",
     "start_time": "2019-04-18T11:15:36.245982Z"
    }
   },
   "outputs": [],
   "source": [
    "# Square of a tensor https://www.tensorflow.org/api_docs/python/tf/math/square\n",
    "tns_4 = tf.square(tns_1)\n",
    "tns_4"
   ]
  },
  {
   "cell_type": "code",
   "execution_count": null,
   "metadata": {
    "ExecuteTime": {
     "end_time": "2019-04-18T11:15:36.875742Z",
     "start_time": "2019-04-18T11:15:36.869777Z"
    }
   },
   "outputs": [],
   "source": [
    "# Transpose tns_1 https://www.tensorflow.org/api_docs/python/tf/transpose\n",
    "tns_5 = tf.transpose(tns_1)\n",
    "tns_5"
   ]
  },
  {
   "cell_type": "code",
   "execution_count": null,
   "metadata": {
    "ExecuteTime": {
     "end_time": "2019-04-18T11:15:37.073685Z",
     "start_time": "2019-04-18T11:15:37.063049Z"
    }
   },
   "outputs": [],
   "source": [
    "# Matrix multiplication https://www.tensorflow.org/api_docs/python/tf/linalg/matmul\n",
    "# Attention to matrix dimensions\n",
    "tns_6 = tf.matmul(tns_1, tf.transpose(tns_2))\n",
    "tns_6"
   ]
  },
  {
   "cell_type": "markdown",
   "metadata": {},
   "source": [
    "### Operations with different types"
   ]
  },
  {
   "cell_type": "code",
   "execution_count": null,
   "metadata": {
    "ExecuteTime": {
     "end_time": "2019-04-18T11:15:37.391858Z",
     "start_time": "2019-04-18T11:15:37.388734Z"
    }
   },
   "outputs": [],
   "source": [
    "tns_1 = tf.constant([[1, 2, 3], [4, 5, 6]], dtype=tf.int32)\n",
    "tns_2 = tf.constant([[4, 5, 6], [1, 2, 3]], dtype=tf.float32)"
   ]
  },
  {
   "cell_type": "code",
   "execution_count": null,
   "metadata": {
    "ExecuteTime": {
     "end_time": "2019-04-18T11:15:37.597512Z",
     "start_time": "2019-04-18T11:15:37.575842Z"
    }
   },
   "outputs": [],
   "source": [
    "tns_1 + tns_2"
   ]
  },
  {
   "cell_type": "code",
   "execution_count": null,
   "metadata": {
    "ExecuteTime": {
     "end_time": "2019-04-18T11:15:37.763438Z",
     "start_time": "2019-04-18T11:15:37.735589Z"
    }
   },
   "outputs": [],
   "source": [
    "tns = tf.Variable([[1, 2, 3], [4, 5, 6]])\n",
    "tns.assign(tns + 1.0)"
   ]
  },
  {
   "cell_type": "code",
   "execution_count": null,
   "metadata": {
    "ExecuteTime": {
     "end_time": "2019-04-18T11:15:37.912771Z",
     "start_time": "2019-04-18T11:15:37.902678Z"
    },
    "scrolled": true
   },
   "outputs": [],
   "source": [
    "tns_4 = tf.transpose(tns_1)\n",
    "tns_4"
   ]
  },
  {
   "cell_type": "markdown",
   "metadata": {},
   "source": [
    "## Appendix"
   ]
  },
  {
   "cell_type": "markdown",
   "metadata": {},
   "source": [
    "### Sparse tensors\n",
    "\n",
    "TensorFlow represents a sparse tensor as three separate dense tensors: `indices`, `values`, and `dense_shape`. \n",
    "\n",
    "* `indices`: A 2-D int64 tensor of dense_shape [N, ndims], which specifies the indices of the elements in the sparse tensor that contain nonzero values (elements are zero-indexed)\n",
    "\n",
    "* `values`: A 1-D tensor of any type and dense_shape [N], which supplies the values for each element in `indices`. \n",
    "\n",
    "* `dense_shape`: A 1-D int64 tensor of dense_shape [ndims], which specifies the dense_shape of the sparse tensor. Takes a list indicating the number of elements in each dimension.\n",
    "\n",
    "`N` and `ndims` are the number of values and number of dimensions in the SparseTensor, respectively.\n",
    "\n",
    "\n",
    "Documentation: https://www.tensorflow.org/api_docs/python/tf/sparse/SparseTensor\n",
    "https://www.tensorflow.org/api_docs/python/tf/sparse/to_dense"
   ]
  },
  {
   "cell_type": "code",
   "execution_count": null,
   "metadata": {
    "ExecuteTime": {
     "end_time": "2019-04-18T11:15:38.966189Z",
     "start_time": "2019-04-18T11:15:38.959133Z"
    }
   },
   "outputs": [],
   "source": [
    "spr = tf.SparseTensor(indices=[[0, 0], [1, 2]], values=[1, 2], dense_shape=[3, 4])\n",
    "spr"
   ]
  },
  {
   "cell_type": "code",
   "execution_count": null,
   "metadata": {
    "ExecuteTime": {
     "end_time": "2019-04-18T11:15:39.242878Z",
     "start_time": "2019-04-18T11:15:39.234729Z"
    }
   },
   "outputs": [],
   "source": [
    "print(spr)"
   ]
  },
  {
   "cell_type": "code",
   "execution_count": null,
   "metadata": {
    "ExecuteTime": {
     "end_time": "2019-04-18T11:15:39.445768Z",
     "start_time": "2019-04-18T11:15:39.437271Z"
    },
    "scrolled": true
   },
   "outputs": [],
   "source": [
    "# Get the dense version of a sparse tensor \n",
    "tf.sparse.to_dense(spr)"
   ]
  },
  {
   "cell_type": "markdown",
   "metadata": {},
   "source": [
    "### Ragged tensors **new in TF 2.0**\n",
    "\n",
    "Ragged tensors are tensors that can contain elements of different size\n",
    "\n",
    "Documentation https://www.tensorflow.org/guide/ragged_tensors"
   ]
  },
  {
   "cell_type": "code",
   "execution_count": null,
   "metadata": {
    "ExecuteTime": {
     "end_time": "2019-04-18T11:15:39.792779Z",
     "start_time": "2019-04-18T11:15:39.779974Z"
    },
    "scrolled": true
   },
   "outputs": [],
   "source": [
    "rgd = tf.ragged.constant([[3, 1, 4, 1], [], [5, 9, 2], [6], []])\n",
    "rgd"
   ]
  },
  {
   "cell_type": "code",
   "execution_count": null,
   "metadata": {
    "ExecuteTime": {
     "end_time": "2019-04-18T11:15:39.943327Z",
     "start_time": "2019-04-18T11:15:39.935443Z"
    }
   },
   "outputs": [],
   "source": [
    "tf.add(rgd, 3)"
   ]
  },
  {
   "cell_type": "code",
   "execution_count": null,
   "metadata": {
    "ExecuteTime": {
     "end_time": "2019-04-18T11:15:40.153219Z",
     "start_time": "2019-04-18T11:15:40.147589Z"
    }
   },
   "outputs": [],
   "source": [
    "print(tf.add(rgd, 3))"
   ]
  },
  {
   "cell_type": "code",
   "execution_count": null,
   "metadata": {
    "ExecuteTime": {
     "end_time": "2019-04-18T11:15:40.307614Z",
     "start_time": "2019-04-18T11:15:40.299524Z"
    }
   },
   "outputs": [],
   "source": [
    "rgd.dtype"
   ]
  },
  {
   "cell_type": "code",
   "execution_count": null,
   "metadata": {
    "ExecuteTime": {
     "end_time": "2019-04-18T11:15:40.464732Z",
     "start_time": "2019-04-18T11:15:40.459868Z"
    }
   },
   "outputs": [],
   "source": [
    "rgd.shape"
   ]
  }
 ],
 "metadata": {
  "kernelspec": {
   "display_name": "Python 3",
   "language": "python",
   "name": "python3"
  },
  "language_info": {
   "codemirror_mode": {
    "name": "ipython",
    "version": 3
   },
   "file_extension": ".py",
   "mimetype": "text/x-python",
   "name": "python",
   "nbconvert_exporter": "python",
   "pygments_lexer": "ipython3",
   "version": "3.6.7"
  },
  "toc": {
   "base_numbering": 1,
   "nav_menu": {},
   "number_sections": true,
   "sideBar": true,
   "skip_h1_title": false,
   "title_cell": "Table of Contents",
   "title_sidebar": "Contents",
   "toc_cell": false,
   "toc_position": {
    "height": "calc(100% - 180px)",
    "left": "10px",
    "top": "150px",
    "width": "356.594px"
   },
   "toc_section_display": true,
   "toc_window_display": true
  }
 },
 "nbformat": 4,
 "nbformat_minor": 1
}
