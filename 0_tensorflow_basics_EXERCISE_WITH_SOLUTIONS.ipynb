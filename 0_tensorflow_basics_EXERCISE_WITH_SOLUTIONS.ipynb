{
 "cells": [
  {
   "cell_type": "markdown",
   "metadata": {},
   "source": [
    "# Tensors and operations with TF 2.0"
   ]
  },
  {
   "cell_type": "code",
   "execution_count": null,
   "metadata": {
    "ExecuteTime": {
     "end_time": "2019-04-16T19:38:08.052511Z",
     "start_time": "2019-04-16T19:38:07.091287Z"
    }
   },
   "outputs": [],
   "source": [
    "import sys\n",
    "import shutil\n",
    "import tensorflow as tf\n",
    "\n",
    "import numpy as np\n",
    "%matplotlib inline\n",
    "import random\n",
    "import matplotlib.pyplot as plt"
   ]
  },
  {
   "cell_type": "code",
   "execution_count": null,
   "metadata": {
    "ExecuteTime": {
     "end_time": "2019-04-16T19:38:08.740457Z",
     "start_time": "2019-04-16T19:38:08.737422Z"
    }
   },
   "outputs": [],
   "source": [
    "# Python version 3.5 or 3.6\n",
    "assert sys.version_info >= (3, 5)\n",
    "assert sys.version_info < (3, 7)\n",
    "# Tensorflow 2.0\n",
    "assert tf.__version__ >= \"2.0\""
   ]
  },
  {
   "cell_type": "markdown",
   "metadata": {},
   "source": [
    "In this exercise we'll take a look at basic mathemathical operations on tensors."
   ]
  },
  {
   "cell_type": "markdown",
   "metadata": {},
   "source": [
    "## Tensors"
   ]
  },
  {
   "cell_type": "markdown",
   "metadata": {},
   "source": [
    "A tensor is a generalisation a vector or matrix with potentially higher dimentions. TensorFlow manipulates tensors.\n",
    "\n",
    "Documenentation: https://www.tensorflow.org/guide/tensors\n",
    "\n",
    "Tensors in TensorFlow are objects of class tf.Tensor() with a type and and shape."
   ]
  },
  {
   "cell_type": "markdown",
   "metadata": {},
   "source": [
    "### Constant"
   ]
  },
  {
   "cell_type": "code",
   "execution_count": null,
   "metadata": {
    "ExecuteTime": {
     "end_time": "2019-04-16T19:38:38.547814Z",
     "start_time": "2019-04-16T19:38:38.491467Z"
    }
   },
   "outputs": [],
   "source": [
    "# 1-D tensor\n",
    "tns_1 = tf.constant([1, 2, 3])\n",
    "tns_1"
   ]
  },
  {
   "cell_type": "code",
   "execution_count": null,
   "metadata": {
    "ExecuteTime": {
     "end_time": "2019-04-16T19:38:52.215830Z",
     "start_time": "2019-04-16T19:38:52.211811Z"
    }
   },
   "outputs": [],
   "source": [
    "# 2-D tensor\n",
    "tns_2 = tf.constant([[1, 2, 3], [4, 5, 6]])\n",
    "tns_2"
   ]
  },
  {
   "cell_type": "code",
   "execution_count": null,
   "metadata": {
    "ExecuteTime": {
     "end_time": "2019-04-16T19:38:58.652395Z",
     "start_time": "2019-04-16T19:38:58.645321Z"
    }
   },
   "outputs": [],
   "source": [
    "# 3-D tensor\n",
    "tns_3 = tf.constant([[[1, 1], [2, 2], [3, 3], [4, 4]], [[5, 5], [6, 6], [7, 7], [8, 8]]])\n",
    "tns_3"
   ]
  },
  {
   "cell_type": "markdown",
   "metadata": {},
   "source": [
    "#### Attributes\n",
    "\n",
    "Tensor objects have `dtype` and `shape` attributes."
   ]
  },
  {
   "cell_type": "code",
   "execution_count": null,
   "metadata": {
    "ExecuteTime": {
     "end_time": "2019-04-16T19:39:07.360008Z",
     "start_time": "2019-04-16T19:39:07.357292Z"
    }
   },
   "outputs": [],
   "source": [
    "tns = tf.constant([[1, 2, 3], [4, 5, 6]])"
   ]
  },
  {
   "cell_type": "code",
   "execution_count": null,
   "metadata": {
    "ExecuteTime": {
     "end_time": "2019-04-16T19:39:19.926681Z",
     "start_time": "2019-04-16T19:39:19.923297Z"
    },
    "solution2": "hidden",
    "solution2_first": true
   },
   "outputs": [],
   "source": [
    "tns"
   ]
  },
  {
   "cell_type": "code",
   "execution_count": null,
   "metadata": {
    "ExecuteTime": {
     "end_time": "2019-04-16T19:39:24.725445Z",
     "start_time": "2019-04-16T19:39:24.721023Z"
    },
    "solution2": "hidden"
   },
   "outputs": [],
   "source": [
    "tns.dtype"
   ]
  },
  {
   "cell_type": "code",
   "execution_count": null,
   "metadata": {
    "solution2": "hidden",
    "solution2_first": true
   },
   "outputs": [],
   "source": [
    "tns"
   ]
  },
  {
   "cell_type": "code",
   "execution_count": null,
   "metadata": {
    "ExecuteTime": {
     "end_time": "2019-04-16T19:39:29.989822Z",
     "start_time": "2019-04-16T19:39:29.980384Z"
    },
    "solution2": "hidden"
   },
   "outputs": [],
   "source": [
    "tns.shape"
   ]
  },
  {
   "cell_type": "markdown",
   "metadata": {},
   "source": [
    "Type and shape can be defined when instantiating the tensor."
   ]
  },
  {
   "cell_type": "code",
   "execution_count": null,
   "metadata": {
    "ExecuteTime": {
     "end_time": "2019-04-16T19:39:33.992973Z",
     "start_time": "2019-04-16T19:39:33.987323Z"
    }
   },
   "outputs": [],
   "source": [
    "tns = tf.constant([[1, 2, 3], [4, 5, 6]], dtype=tf.float32)\n",
    "tns"
   ]
  },
  {
   "cell_type": "code",
   "execution_count": null,
   "metadata": {
    "ExecuteTime": {
     "end_time": "2019-04-16T19:39:39.488315Z",
     "start_time": "2019-04-16T19:39:39.482789Z"
    }
   },
   "outputs": [],
   "source": [
    "tns = tf.constant([[1, 2, 3], [4, 5, 6]], shape=(2, 3, 1))\n",
    "tns"
   ]
  },
  {
   "cell_type": "markdown",
   "metadata": {},
   "source": [
    "#### Accessing tensors\n",
    "\n",
    "You can access a single element or slices of tensors using indexes within backets.\n",
    "\n",
    "Index starts at 0.\n",
    "\n",
    "The `:` notation is used to get all the elements in one dimention. It allows you to access subvectors, submatrices, and even other subtensors."
   ]
  },
  {
   "cell_type": "code",
   "execution_count": null,
   "metadata": {
    "ExecuteTime": {
     "end_time": "2019-04-16T19:39:44.125412Z",
     "start_time": "2019-04-16T19:39:44.122685Z"
    }
   },
   "outputs": [],
   "source": [
    "tns = tf.constant([[1, 2, 3], [4, 5, 6]])"
   ]
  },
  {
   "cell_type": "code",
   "execution_count": null,
   "metadata": {
    "ExecuteTime": {
     "end_time": "2019-04-16T19:39:46.034775Z",
     "start_time": "2019-04-16T19:39:46.030954Z"
    },
    "solution2": "hidden",
    "solution2_first": true
   },
   "outputs": [],
   "source": [
    "# Extract element (1, 2)\n",
    "tns"
   ]
  },
  {
   "cell_type": "code",
   "execution_count": null,
   "metadata": {
    "ExecuteTime": {
     "end_time": "2019-04-16T19:39:52.059689Z",
     "start_time": "2019-04-16T19:39:52.049055Z"
    },
    "solution2": "hidden"
   },
   "outputs": [],
   "source": [
    "tns[1, 2]"
   ]
  },
  {
   "cell_type": "code",
   "execution_count": null,
   "metadata": {
    "ExecuteTime": {
     "end_time": "2019-04-16T19:40:02.941593Z",
     "start_time": "2019-04-16T19:40:02.936591Z"
    },
    "solution2": "hidden",
    "solution2_first": true
   },
   "outputs": [],
   "source": [
    "# Extract first line\n",
    "tns"
   ]
  },
  {
   "cell_type": "code",
   "execution_count": null,
   "metadata": {
    "ExecuteTime": {
     "end_time": "2019-04-16T19:40:09.535246Z",
     "start_time": "2019-04-16T19:40:09.530766Z"
    },
    "solution2": "hidden"
   },
   "outputs": [],
   "source": [
    "tns[0, :]"
   ]
  },
  {
   "cell_type": "code",
   "execution_count": null,
   "metadata": {
    "ExecuteTime": {
     "end_time": "2019-04-14T20:03:01.632741Z",
     "start_time": "2019-04-14T20:03:01.622607Z"
    },
    "solution2": "hidden"
   },
   "outputs": [],
   "source": [
    "tns[1, 2]"
   ]
  },
  {
   "cell_type": "markdown",
   "metadata": {},
   "source": [
    "#### TF & Numpy"
   ]
  },
  {
   "cell_type": "code",
   "execution_count": null,
   "metadata": {
    "ExecuteTime": {
     "end_time": "2019-04-16T19:40:13.681878Z",
     "start_time": "2019-04-16T19:40:13.677440Z"
    }
   },
   "outputs": [],
   "source": [
    "tns = tf.constant([[1, 2, 3], [4, 5, 6]])\n",
    "tns.numpy()"
   ]
  },
  {
   "cell_type": "code",
   "execution_count": null,
   "metadata": {
    "ExecuteTime": {
     "end_time": "2019-04-16T19:40:14.279640Z",
     "start_time": "2019-04-16T19:40:14.267762Z"
    }
   },
   "outputs": [],
   "source": [
    "np_array = np.array([[1, 2, 3], [4, 5, 6]])\n",
    "tf.constant(np_array)"
   ]
  },
  {
   "cell_type": "markdown",
   "metadata": {},
   "source": [
    "### Variable\n",
    "\n",
    "A tf.Variable represents a tensor whose value can be changed by running ops on it."
   ]
  },
  {
   "cell_type": "code",
   "execution_count": null,
   "metadata": {
    "ExecuteTime": {
     "end_time": "2019-04-16T19:40:17.023955Z",
     "start_time": "2019-04-16T19:40:17.012073Z"
    }
   },
   "outputs": [],
   "source": [
    "tns = tf.Variable([[1, 2, 3], [4, 5, 6]])\n",
    "tns"
   ]
  },
  {
   "cell_type": "markdown",
   "metadata": {},
   "source": [
    "### Sparse tensors\n",
    "\n",
    "TensorFlow represents a sparse tensor as three separate dense tensors: `indices`, `values`, and `dense_shape`. \n",
    "\n",
    "* `indices`: A 2-D int64 tensor of dense_shape [N, ndims], which specifies the indices of the elements in the sparse tensor that contain nonzero values (elements are zero-indexed)\n",
    "\n",
    "* `values`: A 1-D tensor of any type and dense_shape [N], which supplies the values for each element in `indices`. \n",
    "\n",
    "* `dense_shape`: A 1-D int64 tensor of dense_shape [ndims], which specifies the dense_shape of the sparse tensor. Takes a list indicating the number of elements in each dimension.\n",
    "\n",
    "`N` and `ndims` are the number of values and number of dimensions in the SparseTensor, respectively.\n",
    "\n",
    "\n",
    "Documentation: https://www.tensorflow.org/api_docs/python/tf/sparse/SparseTensor"
   ]
  },
  {
   "cell_type": "code",
   "execution_count": null,
   "metadata": {
    "ExecuteTime": {
     "end_time": "2019-04-16T19:40:22.719172Z",
     "start_time": "2019-04-16T19:40:22.714958Z"
    }
   },
   "outputs": [],
   "source": [
    "spr = tf.SparseTensor(indices=[[0, 0], [1, 2]], values=[1, 2], dense_shape=[3, 4])\n",
    "spr"
   ]
  },
  {
   "cell_type": "code",
   "execution_count": null,
   "metadata": {
    "ExecuteTime": {
     "end_time": "2019-04-16T19:40:27.177530Z",
     "start_time": "2019-04-16T19:40:27.173674Z"
    }
   },
   "outputs": [],
   "source": [
    "print(spr)"
   ]
  },
  {
   "cell_type": "code",
   "execution_count": null,
   "metadata": {
    "ExecuteTime": {
     "end_time": "2019-04-16T19:40:30.508132Z",
     "start_time": "2019-04-16T19:40:30.499987Z"
    },
    "scrolled": true
   },
   "outputs": [],
   "source": [
    "# Get the dense version of a sparse tensor https://www.tensorflow.org/api_docs/python/tf/sparse/to_dense\n",
    "tf.sparse.to_dense(spr)"
   ]
  },
  {
   "cell_type": "markdown",
   "metadata": {},
   "source": [
    "#### Attributes TODO"
   ]
  },
  {
   "cell_type": "markdown",
   "metadata": {},
   "source": [
    "## Operations"
   ]
  },
  {
   "cell_type": "code",
   "execution_count": null,
   "metadata": {
    "ExecuteTime": {
     "end_time": "2019-04-16T19:40:32.937702Z",
     "start_time": "2019-04-16T19:40:32.935206Z"
    }
   },
   "outputs": [],
   "source": [
    "tns = tf.constant([[1, 2, 3], [4, 5, 6]])"
   ]
  },
  {
   "cell_type": "code",
   "execution_count": null,
   "metadata": {
    "solution2": "hidden",
    "solution2_first": true
   },
   "outputs": [],
   "source": [
    "# Add a constant\n",
    "tns"
   ]
  },
  {
   "cell_type": "code",
   "execution_count": null,
   "metadata": {
    "ExecuteTime": {
     "end_time": "2019-04-16T19:40:35.420696Z",
     "start_time": "2019-04-16T19:40:35.407067Z"
    },
    "solution2": "hidden"
   },
   "outputs": [],
   "source": [
    "tns + 1"
   ]
  },
  {
   "cell_type": "code",
   "execution_count": null,
   "metadata": {
    "ExecuteTime": {
     "end_time": "2019-04-16T19:40:39.190429Z",
     "start_time": "2019-04-16T19:40:39.185627Z"
    }
   },
   "outputs": [],
   "source": [
    "tns_1 = tf.constant([[1, 2, 3], [4, 5, 6]])\n",
    "tns_2 = tf.constant([[4, 5, 6], [1, 2, 3]])"
   ]
  },
  {
   "cell_type": "code",
   "execution_count": null,
   "metadata": {
    "solution2": "hidden",
    "solution2_first": true
   },
   "outputs": [],
   "source": [
    "# Addition of tensors\n",
    "tns_3 = "
   ]
  },
  {
   "cell_type": "code",
   "execution_count": null,
   "metadata": {
    "ExecuteTime": {
     "end_time": "2019-04-16T19:40:41.270044Z",
     "start_time": "2019-04-16T19:40:41.265837Z"
    },
    "solution2": "hidden"
   },
   "outputs": [],
   "source": [
    "tns_3 = tns_1 + tns_2\n",
    "tns_3"
   ]
  },
  {
   "cell_type": "code",
   "execution_count": null,
   "metadata": {},
   "outputs": [],
   "source": [
    "# Square of a tensor https://www.tensorflow.org/api_docs/python/tf/math/square"
   ]
  },
  {
   "cell_type": "code",
   "execution_count": null,
   "metadata": {
    "solution2": "hidden",
    "solution2_first": true
   },
   "outputs": [],
   "source": [
    "tns_4 = "
   ]
  },
  {
   "cell_type": "code",
   "execution_count": null,
   "metadata": {
    "ExecuteTime": {
     "end_time": "2019-04-16T19:40:45.592818Z",
     "start_time": "2019-04-16T19:40:45.587556Z"
    },
    "solution2": "hidden"
   },
   "outputs": [],
   "source": [
    "tns_4 = tf.square(tns_1)\n",
    "tns_4"
   ]
  },
  {
   "cell_type": "code",
   "execution_count": null,
   "metadata": {
    "solution2": "hidden",
    "solution2_first": true
   },
   "outputs": [],
   "source": [
    "# Transpose tns_1 https://www.tensorflow.org/api_docs/python/tf/transpose\n",
    "tns_5 = "
   ]
  },
  {
   "cell_type": "code",
   "execution_count": null,
   "metadata": {
    "ExecuteTime": {
     "end_time": "2019-04-16T19:40:47.963646Z",
     "start_time": "2019-04-16T19:40:47.958590Z"
    },
    "solution2": "hidden"
   },
   "outputs": [],
   "source": [
    "tns_5 = tf.transpose(tns_1)\n",
    "tns_5"
   ]
  },
  {
   "cell_type": "code",
   "execution_count": null,
   "metadata": {
    "ExecuteTime": {
     "end_time": "2019-04-14T20:51:53.940846Z",
     "start_time": "2019-04-14T20:51:53.938210Z"
    },
    "solution2": "hidden",
    "solution2_first": true
   },
   "outputs": [],
   "source": [
    "# Matrix multiplication https://www.tensorflow.org/api_docs/python/tf/linalg/matmul\n",
    "# Attention to matrix dimensions\n",
    "tns_6 = "
   ]
  },
  {
   "cell_type": "code",
   "execution_count": null,
   "metadata": {
    "ExecuteTime": {
     "end_time": "2019-04-16T19:40:51.306762Z",
     "start_time": "2019-04-16T19:40:51.299405Z"
    },
    "solution2": "hidden"
   },
   "outputs": [],
   "source": [
    "tns_6 = tf.matmul(tns_1, tf.transpose(tns_2))\n",
    "tns_6"
   ]
  },
  {
   "cell_type": "markdown",
   "metadata": {},
   "source": [
    "### Operations with different types"
   ]
  },
  {
   "cell_type": "code",
   "execution_count": null,
   "metadata": {
    "ExecuteTime": {
     "end_time": "2019-04-16T19:40:52.905294Z",
     "start_time": "2019-04-16T19:40:52.899699Z"
    }
   },
   "outputs": [],
   "source": [
    "tns_1 = tf.constant([[1, 2, 3], [4, 5, 6]], dtype=tf.int32)\n",
    "tns_2 = tf.constant([[4, 5, 6], [1, 2, 3]], dtype=tf.float32)"
   ]
  },
  {
   "cell_type": "code",
   "execution_count": null,
   "metadata": {
    "ExecuteTime": {
     "end_time": "2019-04-16T19:40:54.754414Z",
     "start_time": "2019-04-16T19:40:54.734764Z"
    }
   },
   "outputs": [],
   "source": [
    "tns_1 + tns_2"
   ]
  },
  {
   "cell_type": "markdown",
   "metadata": {},
   "source": [
    "### Operations with sparse tensors TODO"
   ]
  },
  {
   "cell_type": "code",
   "execution_count": null,
   "metadata": {
    "ExecuteTime": {
     "end_time": "2019-04-16T19:41:10.665205Z",
     "start_time": "2019-04-16T19:41:10.657423Z"
    }
   },
   "outputs": [],
   "source": [
    "spr = tf.SparseTensor(indices=[[0, 0], [1, 2]], values=[1, 2], dense_shape=[3, 4])"
   ]
  },
  {
   "cell_type": "code",
   "execution_count": null,
   "metadata": {},
   "outputs": [],
   "source": [
    "# Add a constant\n",
    "spr"
   ]
  },
  {
   "cell_type": "code",
   "execution_count": null,
   "metadata": {
    "ExecuteTime": {
     "end_time": "2019-04-16T19:41:12.230898Z",
     "start_time": "2019-04-16T19:41:12.223833Z"
    }
   },
   "outputs": [],
   "source": [
    "spr * 10"
   ]
  },
  {
   "cell_type": "code",
   "execution_count": null,
   "metadata": {},
   "outputs": [],
   "source": []
  },
  {
   "cell_type": "code",
   "execution_count": null,
   "metadata": {
    "ExecuteTime": {
     "end_time": "2019-04-16T19:41:15.957982Z",
     "start_time": "2019-04-16T19:41:15.943483Z"
    },
    "solution2": "hidden"
   },
   "outputs": [],
   "source": [
    "tns_6 = tf.matmul(tns_1, tf.transpose(tns_2))\n",
    "tns_6"
   ]
  },
  {
   "cell_type": "code",
   "execution_count": null,
   "metadata": {
    "ExecuteTime": {
     "end_time": "2019-04-16T19:41:26.244633Z",
     "start_time": "2019-04-16T19:41:26.238553Z"
    },
    "scrolled": true,
    "solution2": "hidden"
   },
   "outputs": [],
   "source": [
    "tns_4 = tf.transpose(tns_1)\n",
    "tns_4"
   ]
  },
  {
   "cell_type": "code",
   "execution_count": null,
   "metadata": {
    "ExecuteTime": {
     "end_time": "2019-04-16T19:41:28.365950Z",
     "start_time": "2019-04-16T19:41:28.350761Z"
    },
    "solution2": "hidden"
   },
   "outputs": [],
   "source": [
    "tns_3 = tns_1 + tns_2\n",
    "tns_3"
   ]
  },
  {
   "cell_type": "code",
   "execution_count": null,
   "metadata": {
    "ExecuteTime": {
     "end_time": "2019-04-16T19:41:30.811255Z",
     "start_time": "2019-04-16T19:41:30.807481Z"
    },
    "solution2": "hidden"
   },
   "outputs": [],
   "source": [
    "tns + 1"
   ]
  },
  {
   "cell_type": "code",
   "execution_count": null,
   "metadata": {},
   "outputs": [],
   "source": []
  }
 ],
 "metadata": {
  "kernelspec": {
   "display_name": "Python 3",
   "language": "python",
   "name": "python3"
  },
  "language_info": {
   "codemirror_mode": {
    "name": "ipython",
    "version": 3
   },
   "file_extension": ".py",
   "mimetype": "text/x-python",
   "name": "python",
   "nbconvert_exporter": "python",
   "pygments_lexer": "ipython3",
   "version": "3.6.7"
  },
  "toc": {
   "base_numbering": 1,
   "nav_menu": {},
   "number_sections": true,
   "sideBar": true,
   "skip_h1_title": false,
   "title_cell": "Table of Contents",
   "title_sidebar": "Contents",
   "toc_cell": false,
   "toc_position": {
    "height": "calc(100% - 180px)",
    "left": "10px",
    "top": "150px",
    "width": "356.594px"
   },
   "toc_section_display": true,
   "toc_window_display": true
  }
 },
 "nbformat": 4,
 "nbformat_minor": 2
}
