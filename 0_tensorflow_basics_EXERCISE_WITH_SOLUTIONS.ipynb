{
 "cells": [
  {
   "cell_type": "markdown",
   "metadata": {},
   "source": [
    "# Tensors and operations with TF 2.0"
   ]
  },
  {
   "cell_type": "code",
   "execution_count": null,
   "metadata": {
    "ExecuteTime": {
     "end_time": "2019-04-18T08:12:10.796533Z",
     "start_time": "2019-04-18T08:12:08.581607Z"
    }
   },
   "outputs": [],
   "source": [
    "import sys\n",
    "import shutil\n",
    "import tensorflow as tf\n",
    "\n",
    "import numpy as np\n",
    "%matplotlib inline\n",
    "import random\n",
    "import matplotlib.pyplot as plt"
   ]
  },
  {
   "cell_type": "code",
   "execution_count": null,
   "metadata": {
    "ExecuteTime": {
     "end_time": "2019-04-18T08:12:13.598935Z",
     "start_time": "2019-04-18T08:12:13.591965Z"
    }
   },
   "outputs": [],
   "source": [
    "# Python version 3.5 or 3.6\n",
    "assert sys.version_info >= (3, 5)\n",
    "assert sys.version_info < (3, 7)\n",
    "# Tensorflow 2.0\n",
    "assert tf.__version__ >= \"2.0\""
   ]
  },
  {
   "cell_type": "markdown",
   "metadata": {},
   "source": [
    "In this exercise we'll take a look at basic mathemathical operations on tensors."
   ]
  },
  {
   "cell_type": "markdown",
   "metadata": {},
   "source": [
    "## Tensors"
   ]
  },
  {
   "cell_type": "markdown",
   "metadata": {},
   "source": [
    "A tensor is a generalisation a vector or matrix with potentially higher dimentions. TensorFlow manipulates tensors.\n",
    "\n",
    "Documenentation: https://www.tensorflow.org/guide/tensors\n",
    "\n",
    "Tensors in TensorFlow are objects of class tf.Tensor() with a type and and shape."
   ]
  },
  {
   "cell_type": "markdown",
   "metadata": {},
   "source": [
    "#### Constant"
   ]
  },
  {
   "cell_type": "code",
   "execution_count": null,
   "metadata": {
    "ExecuteTime": {
     "end_time": "2019-04-18T08:12:23.748392Z",
     "start_time": "2019-04-18T08:12:23.708428Z"
    }
   },
   "outputs": [],
   "source": [
    "# 1-D tensor\n",
    "tns_1 = tf.constant([1, 2, 3])\n",
    "tns_1"
   ]
  },
  {
   "cell_type": "code",
   "execution_count": null,
   "metadata": {
    "ExecuteTime": {
     "end_time": "2019-04-18T08:12:25.514912Z",
     "start_time": "2019-04-18T08:12:25.508125Z"
    }
   },
   "outputs": [],
   "source": [
    "# 2-D tensor\n",
    "tns_2 = tf.constant([[1, 2, 3], [4, 5, 6]])\n",
    "tns_2"
   ]
  },
  {
   "cell_type": "code",
   "execution_count": null,
   "metadata": {
    "ExecuteTime": {
     "end_time": "2019-04-18T08:12:26.462720Z",
     "start_time": "2019-04-18T08:12:26.453748Z"
    }
   },
   "outputs": [],
   "source": [
    "# 3-D tensor\n",
    "tns_3 = tf.constant([[[1, 1], [2, 2], [3, 3], [4, 4]], [[5, 5], [6, 6], [7, 7], [8, 8]]])\n",
    "tns_3"
   ]
  },
  {
   "cell_type": "markdown",
   "metadata": {},
   "source": [
    "#### Variable\n",
    "\n",
    "A tf.Variable represents a tensor whose value can be changed by running ops on it."
   ]
  },
  {
   "cell_type": "code",
   "execution_count": null,
   "metadata": {
    "ExecuteTime": {
     "end_time": "2019-04-18T08:30:18.857288Z",
     "start_time": "2019-04-18T08:30:18.846547Z"
    }
   },
   "outputs": [],
   "source": [
    "tns = tf.Variable([[1, 2, 3], [4, 5, 6]])\n",
    "tns"
   ]
  },
  {
   "cell_type": "code",
   "execution_count": null,
   "metadata": {
    "ExecuteTime": {
     "end_time": "2019-04-18T08:30:20.240209Z",
     "start_time": "2019-04-18T08:30:20.232584Z"
    }
   },
   "outputs": [],
   "source": [
    "tns.assign(tns + 1)"
   ]
  },
  {
   "cell_type": "code",
   "execution_count": null,
   "metadata": {},
   "outputs": [],
   "source": [
    "tns = tf.constant([[1, 2, 3], [4, 5, 6]])\n",
    "tns.assign(tns + 1)"
   ]
  },
  {
   "cell_type": "markdown",
   "metadata": {},
   "source": [
    "### Attributes\n",
    "\n",
    "Tensor objects have `dtype` and `shape` attributes."
   ]
  },
  {
   "cell_type": "code",
   "execution_count": null,
   "metadata": {
    "ExecuteTime": {
     "end_time": "2019-04-18T08:12:28.452662Z",
     "start_time": "2019-04-18T08:12:28.448216Z"
    }
   },
   "outputs": [],
   "source": [
    "tns = tf.constant([[1, 2, 3], [4, 5, 6]])"
   ]
  },
  {
   "cell_type": "code",
   "execution_count": null,
   "metadata": {
    "ExecuteTime": {
     "end_time": "2019-04-18T08:12:29.383951Z",
     "start_time": "2019-04-18T08:12:29.378276Z"
    }
   },
   "outputs": [],
   "source": [
    "tns"
   ]
  },
  {
   "cell_type": "code",
   "execution_count": null,
   "metadata": {
    "ExecuteTime": {
     "end_time": "2019-04-18T08:12:31.048495Z",
     "start_time": "2019-04-18T08:12:31.043415Z"
    }
   },
   "outputs": [],
   "source": [
    "tns.dtype"
   ]
  },
  {
   "cell_type": "code",
   "execution_count": null,
   "metadata": {
    "ExecuteTime": {
     "end_time": "2019-04-18T08:12:32.130869Z",
     "start_time": "2019-04-18T08:12:32.125447Z"
    }
   },
   "outputs": [],
   "source": [
    "tns.shape"
   ]
  },
  {
   "cell_type": "markdown",
   "metadata": {},
   "source": [
    "Type and shape can be defined when instantiating the tensor."
   ]
  },
  {
   "cell_type": "code",
   "execution_count": null,
   "metadata": {
    "ExecuteTime": {
     "end_time": "2019-04-18T08:12:34.281030Z",
     "start_time": "2019-04-18T08:12:34.273967Z"
    }
   },
   "outputs": [],
   "source": [
    "tns = tf.constant([[1, 2, 3], [4, 5, 6]], dtype=tf.float32)\n",
    "tns"
   ]
  },
  {
   "cell_type": "code",
   "execution_count": null,
   "metadata": {
    "ExecuteTime": {
     "end_time": "2019-04-18T08:12:36.676818Z",
     "start_time": "2019-04-18T08:12:36.669429Z"
    }
   },
   "outputs": [],
   "source": [
    "tns = tf.constant([[1, 2, 3], [4, 5, 6]], shape=(2, 3, 1))\n",
    "tns"
   ]
  },
  {
   "cell_type": "markdown",
   "metadata": {},
   "source": [
    "### Accessing tensors\n",
    "\n",
    "You can access a single element or slices of tensors using indexes within backets.\n",
    "\n",
    "Index starts at 0.\n",
    "\n",
    "The `:` notation is used to get all the elements in one dimention. It allows you to access subvectors, submatrices, and even other subtensors."
   ]
  },
  {
   "cell_type": "code",
   "execution_count": null,
   "metadata": {
    "ExecuteTime": {
     "end_time": "2019-04-18T08:12:43.389360Z",
     "start_time": "2019-04-18T08:12:43.385483Z"
    }
   },
   "outputs": [],
   "source": [
    "tns = tf.constant([[1, 2, 3], [4, 5, 6]])"
   ]
  },
  {
   "cell_type": "code",
   "execution_count": null,
   "metadata": {
    "ExecuteTime": {
     "end_time": "2019-04-18T08:12:44.473674Z",
     "start_time": "2019-04-18T08:12:44.462612Z"
    }
   },
   "outputs": [],
   "source": [
    "# Extract element (1, 2)\n",
    "tns[1, 2]"
   ]
  },
  {
   "cell_type": "code",
   "execution_count": null,
   "metadata": {
    "ExecuteTime": {
     "end_time": "2019-04-18T08:12:45.332022Z",
     "start_time": "2019-04-18T08:12:45.323237Z"
    }
   },
   "outputs": [],
   "source": [
    "# Extract first line\n",
    "tns[0, :]"
   ]
  },
  {
   "cell_type": "markdown",
   "metadata": {},
   "source": [
    "### TF & Numpy"
   ]
  },
  {
   "cell_type": "code",
   "execution_count": null,
   "metadata": {
    "ExecuteTime": {
     "end_time": "2019-04-18T08:07:35.586658Z",
     "start_time": "2019-04-18T08:07:35.449231Z"
    }
   },
   "outputs": [],
   "source": [
    "tns = tf.constant([[1, 2, 3], [4, 5, 6]])\n",
    "tns.numpy()"
   ]
  },
  {
   "cell_type": "code",
   "execution_count": null,
   "metadata": {
    "ExecuteTime": {
     "end_time": "2019-04-18T08:07:36.051427Z",
     "start_time": "2019-04-18T08:07:36.031539Z"
    }
   },
   "outputs": [],
   "source": [
    "np_array = np.array([[1, 2, 3], [4, 5, 6]])\n",
    "tf.constant(np_array)"
   ]
  },
  {
   "cell_type": "markdown",
   "metadata": {},
   "source": [
    "## Operations"
   ]
  },
  {
   "cell_type": "code",
   "execution_count": null,
   "metadata": {
    "ExecuteTime": {
     "end_time": "2019-04-18T08:42:45.498885Z",
     "start_time": "2019-04-18T08:42:45.491634Z"
    }
   },
   "outputs": [],
   "source": [
    "tns = tf.constant([[1, 2, 3], [4, 5, 6]])"
   ]
  },
  {
   "cell_type": "code",
   "execution_count": null,
   "metadata": {},
   "outputs": [],
   "source": [
    "# Add a constant\n",
    "tns + 1"
   ]
  },
  {
   "cell_type": "code",
   "execution_count": null,
   "metadata": {},
   "outputs": [],
   "source": [
    "# Type must be the same\n",
    "tns + 1.0"
   ]
  },
  {
   "cell_type": "code",
   "execution_count": null,
   "metadata": {
    "ExecuteTime": {
     "end_time": "2019-04-18T08:52:35.910118Z",
     "start_time": "2019-04-18T08:52:35.900830Z"
    }
   },
   "outputs": [],
   "source": [
    "tns_1 = tf.constant([[1, 2, 3], [4, 5, 6]])\n",
    "tns_2 = tf.constant([[4, 5, 6], [1, 2, 3]])"
   ]
  },
  {
   "cell_type": "code",
   "execution_count": null,
   "metadata": {},
   "outputs": [],
   "source": [
    "# Addition of tensors\n",
    "tns_3 = tns_1 + tns_2\n",
    "tns_3"
   ]
  },
  {
   "cell_type": "code",
   "execution_count": null,
   "metadata": {
    "ExecuteTime": {
     "end_time": "2019-04-14T20:55:44.446005Z",
     "start_time": "2019-04-14T20:55:44.439489Z"
    }
   },
   "outputs": [],
   "source": [
    "# Square of a tensor https://www.tensorflow.org/api_docs/python/tf/math/square\n",
    "tns_4 = tf.square(tns_1)\n",
    "tns_4"
   ]
  },
  {
   "cell_type": "code",
   "execution_count": null,
   "metadata": {
    "ExecuteTime": {
     "end_time": "2019-04-14T20:58:30.999829Z",
     "start_time": "2019-04-14T20:58:30.994909Z"
    }
   },
   "outputs": [],
   "source": [
    "# Transpose tns_1 https://www.tensorflow.org/api_docs/python/tf/transpose\n",
    "tns_5 = tf.transpose(tns_1)\n",
    "tns_5"
   ]
  },
  {
   "cell_type": "code",
   "execution_count": null,
   "metadata": {
    "ExecuteTime": {
     "end_time": "2019-04-18T08:52:38.155157Z",
     "start_time": "2019-04-18T08:52:38.140294Z"
    }
   },
   "outputs": [],
   "source": [
    "# Matrix multiplication https://www.tensorflow.org/api_docs/python/tf/linalg/matmul\n",
    "# Attention to matrix dimensions\n",
    "tns_6 = tf.matmul(tns_1, tf.transpose(tns_2))\n",
    "tns_6"
   ]
  },
  {
   "cell_type": "markdown",
   "metadata": {},
   "source": [
    "### Operations with different types"
   ]
  },
  {
   "cell_type": "code",
   "execution_count": null,
   "metadata": {
    "ExecuteTime": {
     "end_time": "2019-04-18T08:54:04.232847Z",
     "start_time": "2019-04-18T08:54:04.223317Z"
    }
   },
   "outputs": [],
   "source": [
    "tns_1 = tf.constant([[1, 2, 3], [4, 5, 6]], dtype=tf.int32)\n",
    "tns_2 = tf.constant([[4, 5, 6], [1, 2, 3]], dtype=tf.float32)"
   ]
  },
  {
   "cell_type": "code",
   "execution_count": null,
   "metadata": {
    "ExecuteTime": {
     "end_time": "2019-04-18T08:54:04.737443Z",
     "start_time": "2019-04-18T08:54:04.706496Z"
    }
   },
   "outputs": [],
   "source": [
    "tns_1 + tns_2"
   ]
  },
  {
   "cell_type": "code",
   "execution_count": null,
   "metadata": {
    "ExecuteTime": {
     "end_time": "2019-04-18T08:54:25.181144Z",
     "start_time": "2019-04-18T08:54:25.141887Z"
    }
   },
   "outputs": [],
   "source": [
    "tns = tf.Variable([[1, 2, 3], [4, 5, 6]])\n",
    "tns.assign(tns + 1.0)"
   ]
  },
  {
   "cell_type": "code",
   "execution_count": null,
   "metadata": {
    "ExecuteTime": {
     "end_time": "2019-04-14T20:51:21.747469Z",
     "start_time": "2019-04-14T20:51:21.738288Z"
    },
    "scrolled": true
   },
   "outputs": [],
   "source": [
    "tns_4 = tf.transpose(tns_1)\n",
    "tns_4"
   ]
  },
  {
   "cell_type": "markdown",
   "metadata": {},
   "source": [
    "## Appendix"
   ]
  },
  {
   "cell_type": "markdown",
   "metadata": {},
   "source": [
    "### Sparse tensors\n",
    "\n",
    "TensorFlow represents a sparse tensor as three separate dense tensors: `indices`, `values`, and `dense_shape`. \n",
    "\n",
    "* `indices`: A 2-D int64 tensor of dense_shape [N, ndims], which specifies the indices of the elements in the sparse tensor that contain nonzero values (elements are zero-indexed)\n",
    "\n",
    "* `values`: A 1-D tensor of any type and dense_shape [N], which supplies the values for each element in `indices`. \n",
    "\n",
    "* `dense_shape`: A 1-D int64 tensor of dense_shape [ndims], which specifies the dense_shape of the sparse tensor. Takes a list indicating the number of elements in each dimension.\n",
    "\n",
    "`N` and `ndims` are the number of values and number of dimensions in the SparseTensor, respectively.\n",
    "\n",
    "\n",
    "Documentation: https://www.tensorflow.org/api_docs/python/tf/sparse/SparseTensor\n",
    "https://www.tensorflow.org/api_docs/python/tf/sparse/to_dense"
   ]
  },
  {
   "cell_type": "code",
   "execution_count": null,
   "metadata": {
    "ExecuteTime": {
     "end_time": "2019-04-14T21:17:13.493311Z",
     "start_time": "2019-04-14T21:17:13.488159Z"
    }
   },
   "outputs": [],
   "source": [
    "spr = tf.SparseTensor(indices=[[0, 0], [1, 2]], values=[1, 2], dense_shape=[3, 4])\n",
    "spr"
   ]
  },
  {
   "cell_type": "code",
   "execution_count": null,
   "metadata": {
    "ExecuteTime": {
     "end_time": "2019-04-14T21:17:48.358516Z",
     "start_time": "2019-04-14T21:17:48.351999Z"
    }
   },
   "outputs": [],
   "source": [
    "print(spr)"
   ]
  },
  {
   "cell_type": "code",
   "execution_count": null,
   "metadata": {
    "ExecuteTime": {
     "end_time": "2019-04-14T21:19:10.107297Z",
     "start_time": "2019-04-14T21:19:10.102320Z"
    },
    "scrolled": true
   },
   "outputs": [],
   "source": [
    "# Get the dense version of a sparse tensor \n",
    "tf.sparse.to_dense(spr)"
   ]
  },
  {
   "cell_type": "markdown",
   "metadata": {},
   "source": [
    "### Ragged tensors **new in TF 2.0**\n",
    "\n",
    "Ragged tensors are tensors that can contain elements of different size\n",
    "\n",
    "Documentation https://www.tensorflow.org/guide/ragged_tensors"
   ]
  },
  {
   "cell_type": "code",
   "execution_count": null,
   "metadata": {
    "ExecuteTime": {
     "end_time": "2019-04-18T08:56:33.854427Z",
     "start_time": "2019-04-18T08:56:33.842499Z"
    },
    "scrolled": true
   },
   "outputs": [],
   "source": [
    "rgd = tf.ragged.constant([[3, 1, 4, 1], [], [5, 9, 2], [6], []])\n",
    "rgd"
   ]
  },
  {
   "cell_type": "code",
   "execution_count": null,
   "metadata": {
    "ExecuteTime": {
     "end_time": "2019-04-18T09:02:44.220522Z",
     "start_time": "2019-04-18T09:02:44.209014Z"
    }
   },
   "outputs": [],
   "source": [
    "tf.add(rgd, 3)"
   ]
  },
  {
   "cell_type": "code",
   "execution_count": null,
   "metadata": {
    "ExecuteTime": {
     "end_time": "2019-04-18T09:03:00.827725Z",
     "start_time": "2019-04-18T09:03:00.820283Z"
    }
   },
   "outputs": [],
   "source": [
    "print(tf.add(rgd, 3))"
   ]
  },
  {
   "cell_type": "code",
   "execution_count": null,
   "metadata": {
    "ExecuteTime": {
     "end_time": "2019-04-18T09:03:20.243486Z",
     "start_time": "2019-04-18T09:03:20.230333Z"
    }
   },
   "outputs": [],
   "source": [
    "rgd.dtype"
   ]
  },
  {
   "cell_type": "code",
   "execution_count": null,
   "metadata": {
    "ExecuteTime": {
     "end_time": "2019-04-18T09:03:28.997127Z",
     "start_time": "2019-04-18T09:03:28.990990Z"
    }
   },
   "outputs": [],
   "source": [
    "rgd.shape"
   ]
  }
 ],
 "metadata": {
  "kernelspec": {
   "display_name": "Python 3",
   "language": "python",
   "name": "python3"
  },
  "language_info": {
   "codemirror_mode": {
    "name": "ipython",
    "version": 3.0
   },
   "file_extension": ".py",
   "mimetype": "text/x-python",
   "name": "python",
   "nbconvert_exporter": "python",
   "pygments_lexer": "ipython3",
   "version": "3.5.2"
  },
  "toc": {
   "base_numbering": 1.0,
   "nav_menu": {},
   "number_sections": true,
   "sideBar": true,
   "skip_h1_title": false,
   "title_cell": "Table of Contents",
   "title_sidebar": "Contents",
   "toc_cell": false,
   "toc_position": {
    "height": "calc(100% - 180px)",
    "left": "10px",
    "top": "150px",
    "width": "356.594px"
   },
   "toc_section_display": true,
   "toc_window_display": true
  }
 },
 "nbformat": 4,
 "nbformat_minor": 0
}